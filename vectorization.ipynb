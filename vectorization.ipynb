{
 "cells": [
  {
   "cell_type": "code",
   "execution_count": 1,
   "metadata": {},
   "outputs": [
    {
     "name": "stdout",
     "output_type": "stream",
     "text": [
      "[1 2 3 4]\n",
      "[0.81080152 0.43937166 0.73893081 0.3828071 ]\n"
     ]
    }
   ],
   "source": [
    "# **** import libraries we will need ****\n",
    "import numpy as np\n",
    "import time\n",
    "\n",
    "# **** create, initialize with specific values, and print the contents of a numpy array ****\n",
    "a = np.array([1, 2, 3, 4])\n",
    "print(a)\n",
    "\n",
    "# **** create, initialize with random values, and print the contents of a numpy array ****\n",
    "b = np.random.rand(4)\n",
    "print(b)"
   ]
  },
  {
   "cell_type": "code",
   "execution_count": 2,
   "metadata": {},
   "outputs": [
    {
     "name": "stdout",
     "output_type": "stream",
     "text": [
      "a.shape: (1000000,)\n",
      "b.shape: (1000000,)\n",
      "\n",
      "a: 0.6964691855978616\n",
      "a: 0.28613933495037946\n",
      "a: 0.2268514535642031\n",
      "a: 0.5513147690828912\n",
      "a: 0.7194689697855631\n",
      "\n",
      "b: 0.7726979824010617\n",
      "b: 0.46711505893558836\n",
      "b: 0.019948827345841025\n",
      "b: 0.9234407522220117\n",
      "b: 0.179140987510242\n"
     ]
    }
   ],
   "source": [
    "# **** make the results repeat ****\n",
    "np.random.seed(123)\n",
    "\n",
    "# **** declare 2 large arrays holding random numbers ****\n",
    "a = np.random.rand(1000000)\n",
    "b = np.random.rand(1000000)\n",
    "\n",
    "# **** display their shape ****\n",
    "print(\"a.shape: \" + str(a.shape))\n",
    "print(\"b.shape: \" + str(b.shape))\n",
    "print()\n",
    "\n",
    "# ***** print the first 5 entries of array a ****\n",
    "for i in range(5):\n",
    "    print(\"a: \" + str(a[i]))\n",
    "print()\n",
    "\n",
    "# **** print the first 5 entries of array b ****\n",
    "for i in range (5):\n",
    "    print(\"b: \" + str(b[i]))"
   ]
  },
  {
   "cell_type": "code",
   "execution_count": 3,
   "metadata": {},
   "outputs": [
    {
     "name": "stdout",
     "output_type": "stream",
     "text": [
      "c: 250123.2279705272\n",
      "non-vectorized time: 1063.934564590454 ms\n"
     ]
    }
   ],
   "source": [
    "# **** initialize c ****\n",
    "c = 0;\n",
    "\n",
    "# **** populate c with the element multiplication of a and b ****\n",
    "tic = time.time()\n",
    "for i in range(1000000):\n",
    "    c += a[i] * b[i]\n",
    "toc = time.time()\n",
    "\n",
    "# **** display the result of the element multiplication and the time the operation took ****\n",
    "print(\"c: \" + str(c))\n",
    "print(\"non-vectorized time: \" + str(1000 * (toc - tic)) + \" ms\")\n",
    "timeNV = tic - toc"
   ]
  },
  {
   "cell_type": "code",
   "execution_count": 4,
   "metadata": {},
   "outputs": [
    {
     "name": "stdout",
     "output_type": "stream",
     "text": [
      "c: 250123.22797053587\n",
      "vectorized time: 46.99587821960449 ms\n",
      "\n",
      "ratio: 22.63889100271415\n"
     ]
    }
   ],
   "source": [
    "# **** clear c ****\n",
    "c = 0\n",
    "\n",
    "# **** populate c with the element multiplication of a and b (using SIMD) ****\n",
    "tic = time.time()\n",
    "c = np.dot(a,b)\n",
    "toc = time.time()\n",
    "\n",
    "# **** display the result of the element multiplication and the time the operation took ****\n",
    "print(\"c: \" + str(c))\n",
    "print(\"vectorized time: \" + str(1000 * (toc - tic)) + \" ms\")\n",
    "timeV = tic - toc\n",
    "print()\n",
    "print(\"ratio: \" + str(timeNV / timeV))"
   ]
  },
  {
   "cell_type": "code",
   "execution_count": 5,
   "metadata": {},
   "outputs": [
    {
     "name": "stdout",
     "output_type": "stream",
     "text": [
      "A.shape: (2000, 3000)\n",
      "\n",
      "v.shape: (3000,)\n"
     ]
    }
   ],
   "source": [
    "# **** make the results repeat ****\n",
    "np.random.seed(123)\n",
    "\n",
    "# **** declare a 2-dimensional array and display its shape ****\n",
    "A = np.random.rand(2000, 3000)\n",
    "print(\"A.shape: \" + str(A.shape))\n",
    "print()\n",
    "\n",
    "# **** declare a vector and display its shape ****\n",
    "v = np.random.rand(3000)\n",
    "print(\"v.shape: \" + str(v.shape))"
   ]
  },
  {
   "cell_type": "code",
   "execution_count": 6,
   "metadata": {},
   "outputs": [
    {
     "name": "stdout",
     "output_type": "stream",
     "text": [
      "u.shape: (2000,)\n",
      "d: 1476056.2967874217 time: 10245.437622070312 ms\n"
     ]
    }
   ],
   "source": [
    "# **** declare a vector of 2,000 entries and initialize it with 0s ****\n",
    "u = np.zeros((2000))\n",
    "\n",
    "# **** using 2 loops multiply them (time operation) ****\n",
    "tic = time.time()\n",
    "for i in range(2000):\n",
    "    for j in range(3000):\n",
    "        u[i] += A[i][j] * v[j]\n",
    "\n",
    "# **** sum all the values in u ****\n",
    "d = 0;\n",
    "for i in range (2000):\n",
    "    d += u[i];\n",
    "toc = time.time()\n",
    "\n",
    "# **** display the shape of u ****\n",
    "print(\"u.shape: \" + str(u.shape))\n",
    "\n",
    "# **** display the result d and the time the operation took ****\n",
    "print(\"d: \" + str(d) + \" time: \" + str(1000 * (toc - tic)) + \" ms\")\n",
    "timeNV = tic - toc"
   ]
  },
  {
   "cell_type": "code",
   "execution_count": 7,
   "metadata": {},
   "outputs": [
    {
     "name": "stdout",
     "output_type": "stream",
     "text": [
      "u.shape: (2000,)\n",
      "d: 1476056.2967874205 time: 77.99482345581055 ms\n",
      "\n",
      "ratio: 131.36048224886437\n"
     ]
    }
   ],
   "source": [
    "# **** initialize u with 0s ****\n",
    "u = np.zeros((2000))\n",
    "\n",
    "# **** multiply the vector (time the operation) ****\n",
    "tic = time.time()\n",
    "u = np.dot(A, v)\n",
    "\n",
    "# **** sum all the values in u ****\n",
    "d = np.sum(u)\n",
    "toc = time.time()\n",
    "\n",
    "# **** display the shape of u ****\n",
    "print(\"u.shape: \" + str(u.shape))\n",
    "\n",
    "# **** display the result d and the time the operation took ****\n",
    "print(\"d: \" + str(d) + \" time: \" + str(1000 * (toc - tic)) + \" ms\")\n",
    "timeV = tic - toc\n",
    "print()\n",
    "print(\"ratio: \" + str(timeNV / timeV))"
   ]
  },
  {
   "cell_type": "code",
   "execution_count": 8,
   "metadata": {},
   "outputs": [
    {
     "name": "stdout",
     "output_type": "stream",
     "text": [
      "x.shape: (12288, 100)\n"
     ]
    }
   ],
   "source": [
    "# **** x ****\n",
    "n_x = (64 ** 2) * 3\n",
    "m = 100;\n",
    "x = np.random.rand(n_x, m)\n",
    "print(\"x.shape: \" + str(x.shape))"
   ]
  },
  {
   "cell_type": "code",
   "execution_count": 9,
   "metadata": {},
   "outputs": [
    {
     "name": "stdout",
     "output_type": "stream",
     "text": [
      "w.shape: (12288, 1)\n"
     ]
    }
   ],
   "source": [
    "# **** w ****\n",
    "w = np.random.rand(n_x, 1)\n",
    "print(\"w.shape: \" + str(w.shape))"
   ]
  },
  {
   "cell_type": "code",
   "execution_count": 10,
   "metadata": {},
   "outputs": [
    {
     "name": "stdout",
     "output_type": "stream",
     "text": [
      "z.shape: (1, 100)\n",
      "z: [[3085.87233026 3046.39114632 3069.22529654 3037.68336421 3058.33295367\n",
      "  3048.61512356 3055.40568348 3067.77208362 3071.0288812  3040.64311368\n",
      "  3015.85687    3060.64383783 3051.68352211 3060.84942322 3070.33082398\n",
      "  3055.49115851 3051.13846139 3071.20439841 3057.68624992 3059.55023719\n",
      "  3098.15648599 3070.49008807 3077.06024315 3075.02658533 3050.35050974\n",
      "  3049.53968612 3097.61192622 3061.58056677 3037.14022029 3068.56109233\n",
      "  3054.7273441  3084.97632227 3048.57225448 3072.07366812 3033.4120418\n",
      "  3030.43838818 3093.95456072 3060.19723373 3063.7943765  3045.72939758\n",
      "  3048.2201513  3073.42435714 3062.0780248  3065.79595085 3067.03146764\n",
      "  3052.12090204 3048.51231941 3083.62884382 3081.75290352 3088.28332183\n",
      "  3064.12340584 3076.68007496 3053.58572801 3040.38150758 3054.20743184\n",
      "  3089.91710773 3032.23661951 3029.67286539 3047.58913599 3071.77737076\n",
      "  3066.56517946 3094.31748563 3045.95454068 3069.01497062 3077.03057345\n",
      "  3088.0165695  3065.47594911 3072.5629795  3045.42227672 3037.85169285\n",
      "  3101.0988355  3053.80059894 3059.63561919 3035.76101002 3041.47629427\n",
      "  3019.10585638 3041.1160453  3081.60127841 3041.2010014  3069.25565361\n",
      "  3087.3403284  3050.12226209 3057.99023889 3062.84120567 3072.84679536\n",
      "  3043.83350924 3043.44208909 3080.75478528 3051.54419506 3081.11957024\n",
      "  3051.50677247 3057.38595603 3056.20378222 3059.67877424 3077.85082191\n",
      "  3090.82622145 3061.30740209 3075.42885329 3044.04411145 3046.31623274]]\n"
     ]
    }
   ],
   "source": [
    "# **** product of w x ****\n",
    "z = np.dot(w.T, x)\n",
    "print(\"z.shape: \" + str(z.shape))\n",
    "print(\"z: \" + str(z))"
   ]
  },
  {
   "cell_type": "code",
   "execution_count": 11,
   "metadata": {},
   "outputs": [
    {
     "name": "stdout",
     "output_type": "stream",
     "text": [
      "b: 0.3964574632024054\n",
      "z: [[3086.26878772 3046.78760378 3069.62175401 3038.07982168 3058.72941113\n",
      "  3049.01158103 3055.80214094 3068.16854108 3071.42533867 3041.03957114\n",
      "  3016.25332746 3061.0402953  3052.07997957 3061.24588068 3070.72728144\n",
      "  3055.88761598 3051.53491886 3071.60085588 3058.08270739 3059.94669465\n",
      "  3098.55294345 3070.88654553 3077.45670061 3075.42304279 3050.7469672\n",
      "  3049.93614359 3098.00838368 3061.97702424 3037.53667775 3068.95754979\n",
      "  3055.12380156 3085.37277974 3048.96871194 3072.47012558 3033.80849927\n",
      "  3030.83484565 3094.35101818 3060.59369119 3064.19083396 3046.12585504\n",
      "  3048.61660876 3073.8208146  3062.47448227 3066.19240832 3067.4279251\n",
      "  3052.5173595  3048.90877687 3084.02530128 3082.14936099 3088.67977929\n",
      "  3064.5198633  3077.07653242 3053.98218547 3040.77796504 3054.6038893\n",
      "  3090.31356519 3032.63307697 3030.06932285 3047.98559345 3072.17382823\n",
      "  3066.96163692 3094.71394309 3046.35099815 3069.41142809 3077.42703091\n",
      "  3088.41302696 3065.87240658 3072.95943696 3045.81873418 3038.24815031\n",
      "  3101.49529296 3054.19705641 3060.03207666 3036.15746748 3041.87275174\n",
      "  3019.50231384 3041.51250277 3081.99773588 3041.59745887 3069.65211107\n",
      "  3087.73678586 3050.51871955 3058.38669635 3063.23766314 3073.24325283\n",
      "  3044.2299667  3043.83854655 3081.15124274 3051.94065252 3081.5160277\n",
      "  3051.90322993 3057.78241349 3056.60023969 3060.07523171 3078.24727937\n",
      "  3091.22267891 3061.70385956 3075.82531076 3044.44056891 3046.7126902 ]]\n"
     ]
    }
   ],
   "source": [
    "# **** add b ****\n",
    "b = np.random.rand()\n",
    "print(\"b: \" + str(b))\n",
    "z += b\n",
    "print(\"z: \" + str(z))"
   ]
  },
  {
   "cell_type": "code",
   "execution_count": null,
   "metadata": {},
   "outputs": [],
   "source": []
  }
 ],
 "metadata": {
  "kernelspec": {
   "display_name": "Python 3",
   "language": "python",
   "name": "python3"
  },
  "language_info": {
   "codemirror_mode": {
    "name": "ipython",
    "version": 3
   },
   "file_extension": ".py",
   "mimetype": "text/x-python",
   "name": "python",
   "nbconvert_exporter": "python",
   "pygments_lexer": "ipython3",
   "version": "3.7.1"
  }
 },
 "nbformat": 4,
 "nbformat_minor": 2
}
